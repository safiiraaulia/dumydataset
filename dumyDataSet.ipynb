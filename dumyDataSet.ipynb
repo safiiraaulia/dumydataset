{
  "nbformat": 4,
  "nbformat_minor": 0,
  "metadata": {
    "colab": {
      "provenance": []
    },
    "kernelspec": {
      "name": "python3",
      "display_name": "Python 3"
    },
    "language_info": {
      "name": "python"
    }
  },
  "cells": [
    {
      "cell_type": "code",
      "execution_count": 1,
      "metadata": {
        "id": "wR-hrmQhaDKu"
      },
      "outputs": [],
      "source": [
        "import pandas as pd"
      ]
    },
    {
      "cell_type": "code",
      "source": [
        "# Data dummy baru\n",
        "new_data = pd.DataFrame({\n",
        "    'Pregnancies': [2, 5, 0, 7, 3],\n",
        "    'Glucose': [120, 150, 90, 200, 100],\n",
        "    'BloodPressure': [70, 80, 60, 90, 75],\n",
        "    'SkinThickness': [30, 25, 20, 35, 28],\n",
        "    'Insulin': [50, 80, 0, 100, 60],\n",
        "    'BMI': [25, 30, 22, 35, 27],\n",
        "    'DiabetesPedigreeFunction': [0.4, 0.6, 0.3, 0.7, 0.5],\n",
        "    'Age': [30, 40, 25, 50, 35]\n",
        "})"
      ],
      "metadata": {
        "id": "baaa9Q4tgNte"
      },
      "execution_count": 2,
      "outputs": []
    }
  ]
}